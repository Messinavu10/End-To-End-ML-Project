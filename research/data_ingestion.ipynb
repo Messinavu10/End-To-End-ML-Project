{
 "cells": [
  {
   "cell_type": "code",
   "execution_count": 1,
   "metadata": {},
   "outputs": [],
   "source": [
    "import sys\n",
    "import os\n",
    "\n",
    "# Adjust the path to point to my project root\n",
    "project_root = os.path.abspath(os.path.join(os.getcwd(), '..'))\n",
    "if project_root not in sys.path:\n",
    "    sys.path.insert(0, project_root)"
   ]
  },
  {
   "cell_type": "code",
   "execution_count": 2,
   "metadata": {},
   "outputs": [],
   "source": [
    "from dataclasses import dataclass\n",
    "from pathlib import Path\n",
    "\n",
    "@dataclass\n",
    "class DataIngestionconfig:\n",
    "    root_dir:Path\n",
    "    source_URL:str\n",
    "    local_data_file:Path"
   ]
  },
  {
   "cell_type": "code",
   "execution_count": 3,
   "metadata": {},
   "outputs": [],
   "source": [
    "from src.datascience.constants import *\n",
    "from src.datascience.utils.common import read_yaml, create_directories"
   ]
  },
  {
   "cell_type": "code",
   "execution_count": 4,
   "metadata": {},
   "outputs": [],
   "source": [
    "class ConfigurationManager:\n",
    "    def __init__(self,config_filepath=CONFIG_FILE_PATH, params_filepath=PARAMS_FILE_PATH, schema_filepath=SCHEMA_FILE_PATH):\n",
    "        self.config=read_yaml(config_filepath)\n",
    "        self.params=read_yaml(params_filepath)\n",
    "        self.schema=read_yaml(schema_filepath)\n",
    "\n",
    "        create_directories([self.config.artifacts_root])\n",
    "    \n",
    "    def get_data_ingestion_config(self) -> DataIngestionconfig:\n",
    "        config=self.config.data_ingestion\n",
    "        create_directories([config.root_dir])\n",
    "\n",
    "        data_ingestion_config=DataIngestionconfig(\n",
    "            root_dir=config.root_dir,\n",
    "            source_URL=config.source_URL,\n",
    "            local_data_file=config.local_data_file\n",
    "        )\n",
    "        return data_ingestion_config"
   ]
  },
  {
   "cell_type": "code",
   "execution_count": 5,
   "metadata": {},
   "outputs": [],
   "source": [
    "import urllib.request as request\n",
    "from src.datascience import logger"
   ]
  },
  {
   "cell_type": "code",
   "execution_count": 6,
   "metadata": {},
   "outputs": [],
   "source": [
    "class DataIngestion:\n",
    "    def __init__(self, config: DataIngestionconfig):\n",
    "        self.config = config\n",
    "    \n",
    "    def download_file(self):\n",
    "        \"\"\"Download the CSV file from the source URL\"\"\"\n",
    "        if not os.path.exists(self.config.local_data_file):\n",
    "            filename, headers = request.urlretrieve(\n",
    "                url = self.config.source_URL,\n",
    "                filename = self.config.local_data_file\n",
    "            )\n",
    "            logger.info(f\"{filename} downloaded! with following info: \\n{headers}\")\n",
    "        else:\n",
    "            logger.info(f\"File already exists at {self.config.local_data_file}\")\n",
    "    \n",
    "    def initiate_data_ingestion(self):\n",
    "        \"\"\"Main method to initiate the data ingestion process\"\"\"\n",
    "        logger.info(\"Entered the data ingestion method or component\")\n",
    "        \n",
    "        try:\n",
    "            # Download the CSV file\n",
    "            self.download_file()\n",
    "            logger.info(\"Data ingestion completed successfully\")\n",
    "            \n",
    "            return (\n",
    "                self.config.local_data_file,\n",
    "            )\n",
    "            \n",
    "        except Exception as e:\n",
    "            logger.error(f\"Error occurred during data ingestion: {e}\")\n",
    "            raise e"
   ]
  },
  {
   "cell_type": "code",
   "execution_count": 7,
   "metadata": {},
   "outputs": [
    {
     "name": "stdout",
     "output_type": "stream",
     "text": [
      "[2025-06-25 19:07:39,371: INFO: common: yaml file: ../config/config.yaml loaded successfully]\n",
      "[2025-06-25 19:07:39,372: INFO: common: yaml file: ../params.yaml loaded successfully]\n",
      "[2025-06-25 19:07:39,372: INFO: common: yaml file: ../schema.yaml loaded successfully]\n",
      "[2025-06-25 19:07:39,373: INFO: common: created directory at: artifacts]\n",
      "[2025-06-25 19:07:39,373: INFO: common: created directory at: artifacts/data_ingestion]\n",
      "[2025-06-25 19:07:39,374: INFO: 470975429: Entered the data ingestion method or component]\n",
      "[2025-06-25 19:07:39,780: INFO: 470975429: artifacts/data_ingestion/winequality-white.csv downloaded! with following info: \n",
      "Connection: close\n",
      "Content-Length: 264426\n",
      "Cache-Control: max-age=300\n",
      "Content-Security-Policy: default-src 'none'; style-src 'unsafe-inline'; sandbox\n",
      "Content-Type: text/plain; charset=utf-8\n",
      "ETag: \"b59f798118e63a6fe2399f503b5411c00a46fb511fc74357511ef218d79f7186\"\n",
      "Strict-Transport-Security: max-age=31536000\n",
      "X-Content-Type-Options: nosniff\n",
      "X-Frame-Options: deny\n",
      "X-XSS-Protection: 1; mode=block\n",
      "X-GitHub-Request-Id: 12ED:1866E3:1E962D:276074:685CAB6A\n",
      "Accept-Ranges: bytes\n",
      "Date: Thu, 26 Jun 2025 02:07:39 GMT\n",
      "Via: 1.1 varnish\n",
      "X-Served-By: cache-bur-kbur8200061-BUR\n",
      "X-Cache: MISS\n",
      "X-Cache-Hits: 0\n",
      "X-Timer: S1750903659.499111,VS0,VE209\n",
      "Vary: Authorization,Accept-Encoding\n",
      "Access-Control-Allow-Origin: *\n",
      "Cross-Origin-Resource-Policy: cross-origin\n",
      "X-Fastly-Request-ID: 33f24cfed3c9c2a50b15d7821432fbee780ac790\n",
      "Expires: Thu, 26 Jun 2025 02:12:39 GMT\n",
      "Source-Age: 0\n",
      "\n",
      "]\n",
      "[2025-06-25 19:07:39,781: INFO: 470975429: Data ingestion completed successfully]\n",
      "Data downloaded to: ('artifacts/data_ingestion/winequality-white.csv',)\n"
     ]
    }
   ],
   "source": [
    "# Initialize the configuration\n",
    "config_manager = ConfigurationManager()\n",
    "data_ingestion_config = config_manager.get_data_ingestion_config()\n",
    "\n",
    "# Create DataIngestion instance\n",
    "data_ingestion = DataIngestion(data_ingestion_config)\n",
    "\n",
    "# Initiate data ingestion\n",
    "local_data_file = data_ingestion.initiate_data_ingestion()\n",
    "print(f\"Data downloaded to: {local_data_file}\")"
   ]
  }
 ],
 "metadata": {
  "kernelspec": {
   "display_name": "Python 3",
   "language": "python",
   "name": "python3"
  },
  "language_info": {
   "codemirror_mode": {
    "name": "ipython",
    "version": 3
   },
   "file_extension": ".py",
   "mimetype": "text/x-python",
   "name": "python",
   "nbconvert_exporter": "python",
   "pygments_lexer": "ipython3",
   "version": "3.10.18"
  }
 },
 "nbformat": 4,
 "nbformat_minor": 2
}
